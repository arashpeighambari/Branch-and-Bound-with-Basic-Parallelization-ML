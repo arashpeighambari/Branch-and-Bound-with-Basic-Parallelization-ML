{
  "nbformat": 4,
  "nbformat_minor": 0,
  "metadata": {
    "colab": {
      "provenance": [],
      "authorship_tag": "ABX9TyN+nUSSftr9d6VQS3Uy0zxX",
      "include_colab_link": true
    },
    "kernelspec": {
      "name": "python3",
      "display_name": "Python 3"
    },
    "language_info": {
      "name": "python"
    }
  },
  "cells": [
    {
      "cell_type": "markdown",
      "metadata": {
        "id": "view-in-github",
        "colab_type": "text"
      },
      "source": [
        "<a href=\"https://colab.research.google.com/github/arashpeighambari/Branch-and-Bound-with-Basic-Parallelization-ML/blob/main/Branch_and_bound.ipynb\" target=\"_parent\"><img src=\"https://colab.research.google.com/assets/colab-badge.svg\" alt=\"Open In Colab\"/></a>"
      ]
    },
    {
      "cell_type": "markdown",
      "source": [
        "# Traveling Salesman Problem (TSP)"
      ],
      "metadata": {
        "id": "oIbzcPiYLd2V"
      }
    },
    {
      "cell_type": "markdown",
      "source": [
        "Verifying branch-n-bound angainst brute-force"
      ],
      "metadata": {
        "id": "rxFUuO3FLHB-"
      }
    },
    {
      "cell_type": "code",
      "source": [
        "import math\n",
        "import time\n",
        "import baseline_bb\n",
        "from baseline_bb import branch_and_bound_standard, nodes_expanded_std\n",
        "from brute_force import brute_force_tsp\n",
        "\n",
        "if __name__ == '__main__':\n",
        "    # An example 5 city TSP instance\n",
        "    cost_matrix = [\n",
        "        [0, 10, 15, 20, 10],\n",
        "        [10, 0, 35, 25, 20],\n",
        "        [15, 35, 0, 30, 15],\n",
        "        [20, 25, 30, 0, 35],\n",
        "        [10, 20, 15, 35, 0]\n",
        "    ]\n",
        "    n = len(cost_matrix)\n",
        "\n",
        "    # Run the branch-and-bound method\n",
        "    best = [math.inf, []]\n",
        "    baseline_bb.nodes_expanded_std = 0\n",
        "\n",
        "    start_time = time.time()\n",
        "    branch_and_bound_standard(0, {0}, [0], 0, cost_matrix, n, best)\n",
        "    runtime_bnb = time.time() - start_time\n",
        "\n",
        "    print(\"Branch-and-Bound Solution:\")\n",
        "    print(\"  Best tour cost:\", best[0])\n",
        "    print(\"  Best tour path:\", best[1])\n",
        "    print(\"  Runtime (seconds):\", runtime_bnb)\n",
        "    print(\"  Nodes expanded:\", baseline_bb.nodes_expanded_std)\n",
        "\n",
        "    # Run the brute-force\n",
        "    start_time = time.time()\n",
        "    brute_cost, brute_path = brute_force_tsp(cost_matrix)\n",
        "    runtime_brute = time.time() - start_time\n",
        "\n",
        "    print(\"\\nBrute-Force Solution:\")\n",
        "    print(\"  Best tour cost:\", brute_cost)\n",
        "    print(\"  Best tour path:\", brute_path)\n",
        "    print(\"  Runtime (seconds):\", runtime_brute)\n",
        "\n",
        "    # Verify that both methods produce the same solution\n",
        "    if best[0] == brute_cost and best[1] == brute_path:\n",
        "        print(\"\\nVerification: Both solutions match!\")\n",
        "    else:\n",
        "        print(\"\\nVerification: Solutions do not match!\")\n"
      ],
      "metadata": {
        "colab": {
          "base_uri": "https://localhost:8080/"
        },
        "outputId": "30444e21-0c6f-4480-b6e3-3a96a0535fb8",
        "id": "2lJRwRmTLHB-"
      },
      "execution_count": null,
      "outputs": [
        {
          "output_type": "stream",
          "name": "stdout",
          "text": [
            "Branch-and-Bound Solution:\n",
            "  Best tour cost: 90\n",
            "  Best tour path: [0, 1, 3, 2, 4, 0]\n",
            "  Runtime (seconds): 0.00016999244689941406\n",
            "  Nodes expanded: 20\n",
            "\n",
            "Brute-Force Solution:\n",
            "  Best tour cost: 90\n",
            "  Best tour path: [0, 1, 3, 2, 4, 0]\n",
            "  Runtime (seconds): 7.510185241699219e-05\n",
            "\n",
            "Verification: Both solutions match!\n"
          ]
        }
      ]
    },
    {
      "cell_type": "markdown",
      "source": [
        "Verifying Parallel Processing"
      ],
      "metadata": {
        "id": "_VIKhEw3LHB_"
      }
    },
    {
      "cell_type": "code",
      "source": [
        "import multiprocessing\n",
        "import math\n",
        "import time\n",
        "from parallel_bb import worker\n",
        "\n",
        "\n",
        "# Example cost matrix for a 5 city TSP\n",
        "cost_matrix = [\n",
        "    [0, 10, 15, 20, 10],\n",
        "    [10, 0, 35, 25, 20],\n",
        "    [15, 35, 0, 30, 15],\n",
        "    [20, 25, 30, 0, 35],\n",
        "    [10, 20, 15, 35, 0]\n",
        "]\n",
        "n = len(cost_matrix)\n",
        "\n",
        "# Manager to hold the shared best solution and a lock\n",
        "manager = multiprocessing.Manager()\n",
        "best = manager.dict()\n",
        "best['cost'] = math.inf\n",
        "best['path'] = []\n",
        "lock = manager.Lock()\n",
        "\n",
        "# Each task is a branch\n",
        "tasks = []\n",
        "for city in range(1, n):\n",
        "    tasks.append((city, cost_matrix, n, best, lock))\n",
        "\n",
        "start_time = time.time()\n",
        "# Pool to process each branch in parallel\n",
        "with multiprocessing.Pool(processes=4) as pool:\n",
        "    pool.map(worker, tasks)\n",
        "runtime_parallel = time.time() - start_time\n",
        "\n",
        "print(\"Parallel Branch-and-Bound Solution:\")\n",
        "print(\"  Best tour cost:\", best['cost'])\n",
        "print(\"  Best tour path:\", best['path'])\n",
        "print(\"  Runtime (seconds):\", runtime_parallel)\n"
      ],
      "metadata": {
        "colab": {
          "base_uri": "https://localhost:8080/"
        },
        "outputId": "f2599dc5-2de2-4607-ee3e-a35a80bbee38",
        "id": "0nRz45D7LHB_"
      },
      "execution_count": null,
      "outputs": [
        {
          "output_type": "stream",
          "name": "stdout",
          "text": [
            "Parallel Branch-and-Bound Solution:\n",
            "  Best tour cost: 90\n",
            "  Best tour path: [0, 1, 3, 2, 4, 0]\n",
            "  Runtime (seconds): 0.21709418296813965\n"
          ]
        }
      ]
    },
    {
      "cell_type": "markdown",
      "source": [
        "Training and Verifying the ML approach"
      ],
      "metadata": {
        "id": "DIpPYhPfQLiv"
      }
    },
    {
      "cell_type": "code",
      "execution_count": null,
      "metadata": {
        "colab": {
          "base_uri": "https://localhost:8080/"
        },
        "id": "igVYZyaGuYEN",
        "outputId": "752cad8c-5fab-42ad-a968-f8224898fb98"
      },
      "outputs": [
        {
          "output_type": "stream",
          "name": "stdout",
          "text": [
            "Generating training data for ML heuristic...\n",
            "ML training complete.\n",
            "Model coefficients: [0.09064007 0.35421891 0.81007924 7.68530955 0.63393803]\n",
            "Model intercept: -0.4083253990346094\n",
            "\n",
            "Branch-and-Bound with ML Heuristic:\n",
            "  Best tour cost: 92\n",
            "  Best tour path: [0, 2, 7, 5, 6, 3, 1, 8, 9, 4, 0]\n",
            "  Runtime (seconds): 0.05015134811401367\n",
            "  Node expansions (ML): 386\n",
            "\n",
            "Standard Branch-and-Bound (MST-based bound):\n",
            "  Best tour cost: 92\n",
            "  Best tour path: [0, 2, 7, 5, 6, 3, 1, 8, 9, 4, 0]\n",
            "  Runtime (seconds): 0.003817319869995117\n",
            "  Node expansions (Standard): 616\n"
          ]
        }
      ],
      "source": [
        "import math\n",
        "import time\n",
        "\n",
        "import ml_bb\n",
        "from ml_bb import train_ml_model, branch_and_bound_ml, nodes_expanded_ml\n",
        "from baseline_bb import branch_and_bound_standard, nodes_expanded_std\n",
        "\n",
        "\n",
        "# TSP instance with 10 cities for training.\n",
        "cost_matrix = [\n",
        "    [0, 12, 10, 19, 8, 15, 17, 16, 20, 11],\n",
        "    [12, 0, 18, 8, 14, 10, 16, 15, 9, 13],\n",
        "    [10, 18, 0, 12, 11, 13, 19, 7, 14, 12],\n",
        "    [19, 8, 12, 0, 17, 9, 11, 14, 10, 15],\n",
        "    [8, 14, 11, 17, 0, 12, 13, 10, 16, 9],\n",
        "    [15, 10, 13, 9, 12, 0, 8, 11, 14, 10],\n",
        "    [17, 16, 19, 11, 13, 8, 0, 15, 12, 14],\n",
        "    [16, 15, 7, 14, 10, 11, 15, 0, 13, 12],\n",
        "    [20, 9, 14, 10, 16, 14, 12, 13, 0, 11],\n",
        "    [11, 13, 12, 15, 9, 10, 14, 12, 11, 0]\n",
        "]\n",
        "n = len(cost_matrix)\n",
        "\n",
        "\n",
        "# Train the ML model.\n",
        "ml_model = train_ml_model(cost_matrix, n, num_samples=1000)\n",
        "\n",
        "# Run the ML-augmented branch-and-bound.\n",
        "best_ml = [math.inf, []]\n",
        "ml_bb.nodes_expanded_ml = 0\n",
        "start_time_ml = time.time()\n",
        "branch_and_bound_ml(0, {0}, [0], 0, cost_matrix, n, best_ml, ml_model)\n",
        "runtime_ml = time.time() - start_time_ml\n",
        "\n",
        "print(\"\\nBranch-and-Bound with ML Heuristic:\")\n",
        "print(\"  Best tour cost:\", best_ml[0])\n",
        "print(\"  Best tour path:\", best_ml[1])\n",
        "print(\"  Runtime (seconds):\", runtime_ml)\n",
        "print(\"  Node expansions (ML):\", ml_bb.nodes_expanded_ml)\n",
        "\n",
        "# Run the standard branch-and-bound.\n",
        "best_std = [math.inf, []]\n",
        "baseline_bb.nodes_expanded_std = 0\n",
        "start_time_std = time.time()\n",
        "branch_and_bound_standard(0, {0}, [0], 0, cost_matrix, n, best_std)\n",
        "runtime_std = time.time() - start_time_std\n",
        "\n",
        "print(\"\\nStandard Branch-and-Bound (MST-based bound):\")\n",
        "print(\"  Best tour cost:\", best_std[0])\n",
        "print(\"  Best tour path:\", best_std[1])\n",
        "print(\"  Runtime (seconds):\", runtime_std)\n",
        "print(\"  Node expansions (Standard):\", baseline_bb.nodes_expanded_std)\n"
      ]
    },
    {
      "cell_type": "markdown",
      "source": [
        "Load Test Data"
      ],
      "metadata": {
        "id": "H6caI-RmDGGP"
      }
    },
    {
      "cell_type": "code",
      "source": [
        "from utils.load_data import load_data\n",
        "tsp_instances = load_data(\"data/test_data.txt\")\n",
        "\n",
        "# Print\n",
        "for idx, instance in enumerate(tsp_instances, start=1):\n",
        "    print(f\"TSP Instance {idx}:\")\n",
        "    for row in instance:\n",
        "        print(row)\n",
        "    print()"
      ],
      "metadata": {
        "colab": {
          "base_uri": "https://localhost:8080/"
        },
        "id": "VkCnnXdNVEZd",
        "outputId": "cdd0c8e7-86c6-477d-b548-721b6f8d1446"
      },
      "execution_count": null,
      "outputs": [
        {
          "output_type": "stream",
          "name": "stdout",
          "text": [
            "TSP Instance 1:\n",
            "[0, 14, 25, 16, 24, 14, 10, 11, 11, 24]\n",
            "[14, 0, 13, 25, 22, 6, 11, 23, 22, 9]\n",
            "[25, 13, 0, 21, 10, 11, 9, 11, 9, 17]\n",
            "[16, 25, 21, 0, 12, 15, 16, 23, 24, 6]\n",
            "[24, 22, 10, 12, 0, 24, 23, 20, 15, 20]\n",
            "[14, 6, 11, 15, 24, 0, 21, 24, 19, 15]\n",
            "[10, 11, 9, 16, 23, 21, 0, 15, 6, 20]\n",
            "[11, 23, 11, 23, 20, 24, 15, 0, 19, 15]\n",
            "[11, 22, 9, 24, 15, 19, 6, 19, 0, 15]\n",
            "[24, 9, 17, 6, 20, 15, 20, 15, 15, 0]\n",
            "\n",
            "TSP Instance 2:\n",
            "[0, 8, 15, 21, 25, 12, 23, 20, 14, 23]\n",
            "[8, 0, 24, 10, 19, 15, 22, 6, 16, 21]\n",
            "[15, 24, 0, 9, 16, 16, 5, 11, 20, 10]\n",
            "[21, 10, 9, 0, 11, 6, 22, 20, 9, 22]\n",
            "[25, 19, 16, 11, 0, 17, 22, 7, 9, 23]\n",
            "[12, 15, 16, 6, 17, 0, 20, 19, 7, 24]\n",
            "[23, 22, 5, 22, 22, 20, 0, 9, 19, 15]\n",
            "[20, 6, 11, 20, 7, 19, 9, 0, 9, 10]\n",
            "[14, 16, 20, 9, 9, 7, 19, 9, 0, 25]\n",
            "[23, 21, 10, 22, 23, 24, 15, 10, 25, 0]\n",
            "\n",
            "TSP Instance 3:\n",
            "[0, 24, 13, 7, 25, 22, 15, 25, 7, 24]\n",
            "[24, 0, 15, 22, 13, 8, 14, 20, 20, 20]\n",
            "[13, 15, 0, 14, 22, 22, 10, 22, 22, 19]\n",
            "[7, 22, 14, 0, 9, 13, 23, 23, 16, 12]\n",
            "[25, 13, 22, 9, 0, 8, 12, 12, 7, 20]\n",
            "[22, 8, 22, 13, 8, 0, 20, 20, 22, 22]\n",
            "[15, 14, 10, 23, 12, 20, 0, 14, 13, 18]\n",
            "[25, 20, 22, 23, 12, 20, 14, 0, 15, 12]\n",
            "[7, 20, 22, 16, 7, 22, 13, 15, 0, 13]\n",
            "[24, 20, 19, 12, 20, 22, 18, 12, 13, 0]\n",
            "\n",
            "TSP Instance 4:\n",
            "[0, 17, 19, 12, 25, 10, 22, 21, 8, 11]\n",
            "[17, 0, 10, 18, 7, 13, 11, 19, 10, 11]\n",
            "[19, 10, 0, 17, 23, 10, 20, 12, 18, 20]\n",
            "[12, 18, 17, 0, 13, 6, 19, 9, 16, 19]\n",
            "[25, 7, 23, 13, 0, 22, 20, 7, 24, 25]\n",
            "[10, 13, 10, 6, 22, 0, 15, 16, 16, 16]\n",
            "[22, 11, 20, 19, 20, 15, 0, 14, 21, 11]\n",
            "[21, 19, 12, 9, 7, 16, 14, 0, 10, 16]\n",
            "[8, 10, 18, 16, 24, 16, 21, 10, 0, 18]\n",
            "[11, 11, 20, 19, 25, 16, 11, 16, 18, 0]\n",
            "\n",
            "TSP Instance 5:\n",
            "[0, 22, 20, 17, 25, 23, 7, 14, 6, 10]\n",
            "[22, 0, 25, 23, 20, 24, 5, 22, 6, 13]\n",
            "[20, 25, 0, 19, 7, 13, 23, 14, 7, 7]\n",
            "[17, 23, 19, 0, 25, 13, 22, 7, 6, 7]\n",
            "[25, 20, 7, 25, 0, 9, 7, 23, 15, 19]\n",
            "[23, 24, 13, 13, 9, 0, 9, 7, 22, 25]\n",
            "[7, 5, 23, 22, 7, 9, 0, 24, 17, 11]\n",
            "[14, 22, 14, 7, 23, 7, 24, 0, 25, 6]\n",
            "[6, 6, 7, 6, 15, 22, 17, 25, 0, 9]\n",
            "[10, 13, 7, 7, 19, 25, 11, 6, 9, 0]\n",
            "\n"
          ]
        }
      ]
    },
    {
      "cell_type": "markdown",
      "source": [
        "baseline benchmark"
      ],
      "metadata": {
        "id": "aUoxp3iBL7ME"
      }
    },
    {
      "cell_type": "code",
      "source": [
        "import baseline_bb\n",
        "\n",
        "ave_std_runtime = []\n",
        "total_exp_nodes_std = []\n",
        "\n",
        "for cost_matrix in tsp_instances:\n",
        "  runtime_std =[]\n",
        "  for round in range(5):\n",
        "    n = len(cost_matrix)\n",
        "    best_std = [math.inf, []]\n",
        "    baseline_bb.nodes_expanded_std = 0\n",
        "    start_time_ml = time.time()\n",
        "    branch_and_bound_standard(0, {0}, [0], 0, cost_matrix, n, best_std)\n",
        "    runtime_std.append(time.time() - start_time_ml)\n",
        "\n",
        "\n",
        "  print(\"\\nStandard Branch-and-Bound (MST-based bound):\")\n",
        "  print(\"  Best tour cost:\", best_std[0])\n",
        "  print(\"  Best tour path:\", best_std[1])\n",
        "\n",
        "  average_std = sum(runtime_std)/len(runtime_std)\n",
        "  ave_std_runtime.append(average_std)\n",
        "  total_exp_nodes_std.append(baseline_bb.nodes_expanded_std)\n",
        "\n",
        "  print(\"  Average Runtime (seconds):\", average_std)\n",
        "  print(\"  Node expansions (Standard):\", baseline_bb.nodes_expanded_std)\n"
      ],
      "metadata": {
        "colab": {
          "base_uri": "https://localhost:8080/"
        },
        "id": "bnXmog-abg63",
        "outputId": "2682aadc-ef1e-451b-e371-8752109914bb"
      },
      "execution_count": null,
      "outputs": [
        {
          "output_type": "stream",
          "name": "stdout",
          "text": [
            "\n",
            "Standard Branch-and-Bound (MST-based bound):\n",
            "  Best tour cost: 97\n",
            "  Best tour path: [0, 6, 8, 4, 3, 9, 1, 5, 2, 7, 0]\n",
            "  Average Runtime (seconds): 0.012904834747314454\n",
            "  Node expansions (Standard): 870\n",
            "\n",
            "Standard Branch-and-Bound (MST-based bound):\n",
            "  Best tour cost: 92\n",
            "  Best tour path: [0, 1, 3, 2, 6, 9, 7, 4, 8, 5, 0]\n",
            "  Average Runtime (seconds): 0.010895061492919921\n",
            "  Node expansions (Standard): 998\n",
            "\n",
            "Standard Branch-and-Bound (MST-based bound):\n",
            "  Best tour cost: 100\n",
            "  Best tour path: [0, 3, 9, 7, 6, 2, 1, 5, 4, 8, 0]\n",
            "  Average Runtime (seconds): 0.00774993896484375\n",
            "  Node expansions (Standard): 757\n",
            "\n",
            "Standard Branch-and-Bound (MST-based bound):\n",
            "  Best tour cost: 97\n",
            "  Best tour path: [0, 8, 7, 4, 3, 5, 2, 1, 6, 9, 0]\n",
            "  Average Runtime (seconds): 0.018315982818603516\n",
            "  Node expansions (Standard): 1650\n",
            "\n",
            "Standard Branch-and-Bound (MST-based bound):\n",
            "  Best tour cost: 71\n",
            "  Best tour path: [0, 6, 1, 8, 3, 7, 5, 4, 2, 9, 0]\n",
            "  Average Runtime (seconds): 0.012667989730834961\n",
            "  Node expansions (Standard): 1063\n"
          ]
        }
      ]
    },
    {
      "cell_type": "markdown",
      "source": [
        "parallel benchmark"
      ],
      "metadata": {
        "id": "k1iXBgBpML81"
      }
    },
    {
      "cell_type": "code",
      "source": [
        "import multiprocessing\n",
        "import math\n",
        "import time\n",
        "from parallel_bb import worker\n",
        "\n",
        "ave_parallel_runtime = []\n",
        "for cost_matrix in tsp_instances:\n",
        "  runtime_parallel =[]\n",
        "  for round in range(5):\n",
        "\n",
        "    manager = multiprocessing.Manager()\n",
        "    best = manager.dict()\n",
        "    best['cost'] = math.inf\n",
        "    best['path'] = []\n",
        "    lock = manager.Lock()\n",
        "\n",
        "    tasks = []\n",
        "    for city in range(1, n):\n",
        "        tasks.append((city, cost_matrix, n, best, lock))\n",
        "\n",
        "    start_time = time.time()\n",
        "\n",
        "    with multiprocessing.Pool(processes=4) as pool:\n",
        "        pool.map(worker, tasks)\n",
        "    runtime_parallel.append(time.time() - start_time)\n",
        "\n",
        "  average_parallel = sum(runtime_parallel)/len(runtime_parallel)\n",
        "  print(\"\\nParallel Branch-and-Bound Solution:\")\n",
        "  print(\"  Best tour cost:\", best['cost'])\n",
        "  print(\"  Best tour path:\", best['path'])\n",
        "  print(\"  Average Runtime (seconds):\", average_parallel)\n",
        "  ave_parallel_runtime.append(average_parallel)\n"
      ],
      "metadata": {
        "colab": {
          "base_uri": "https://localhost:8080/"
        },
        "id": "r5vECSCWhaTu",
        "outputId": "eb8f5264-0e63-46fd-f236-1a4c68909d4f"
      },
      "execution_count": null,
      "outputs": [
        {
          "output_type": "stream",
          "name": "stdout",
          "text": [
            "\n",
            "Parallel Branch-and-Bound Solution:\n",
            "  Best tour cost: 97\n",
            "  Best tour path: [0, 7, 2, 5, 1, 9, 3, 4, 8, 6, 0]\n",
            "  Average Runtime (seconds): 9.88449478149414\n",
            "\n",
            "Parallel Branch-and-Bound Solution:\n",
            "  Best tour cost: 92\n",
            "  Best tour path: [0, 1, 3, 2, 6, 9, 7, 4, 8, 5, 0]\n",
            "  Average Runtime (seconds): 8.775148582458495\n",
            "\n",
            "Parallel Branch-and-Bound Solution:\n",
            "  Best tour cost: 100\n",
            "  Best tour path: [0, 8, 4, 5, 1, 2, 6, 7, 9, 3, 0]\n",
            "  Average Runtime (seconds): 7.507335758209228\n",
            "\n",
            "Parallel Branch-and-Bound Solution:\n",
            "  Best tour cost: 97\n",
            "  Best tour path: [0, 9, 6, 1, 2, 5, 3, 4, 7, 8, 0]\n",
            "  Average Runtime (seconds): 13.18411135673523\n",
            "\n",
            "Parallel Branch-and-Bound Solution:\n",
            "  Best tour cost: 71\n",
            "  Best tour path: [0, 6, 1, 8, 3, 7, 5, 4, 2, 9, 0]\n",
            "  Average Runtime (seconds): 3.8391560077667237\n"
          ]
        }
      ]
    },
    {
      "cell_type": "markdown",
      "source": [
        "ML-augmented benchmark"
      ],
      "metadata": {
        "id": "g6g3Q9ZmMeGI"
      }
    },
    {
      "cell_type": "code",
      "source": [
        "import ml_bb\n",
        "\n",
        "ave_ml_runtime = []\n",
        "total_exp_nodes_ml = []\n",
        "\n",
        "for cost_matrix in tsp_instances:\n",
        "  runtime_ml =[]\n",
        "  for round in range(5):\n",
        "    n = len(cost_matrix)\n",
        "    best_ml = [math.inf, []]\n",
        "    ml_bb.nodes_expanded_ml = 0\n",
        "    start_time_ml = time.time()\n",
        "    branch_and_bound_ml(0, {0}, [0], 0, cost_matrix, n, best_ml, ml_model)\n",
        "    runtime_ml.append(time.time() - start_time_ml)\n",
        "\n",
        "  print(\"\\nBranch-and-Bound with ML Heuristic:\")\n",
        "  print(\"  Best tour cost:\", best_ml[0])\n",
        "  print(\"  Best tour path:\", best_ml[1])\n",
        "\n",
        "  average_ml = sum(runtime_ml)/len(runtime_ml)\n",
        "  ave_ml_runtime.append(average_ml)\n",
        "  total_exp_nodes_ml.append(ml_bb.nodes_expanded_ml)\n",
        "\n",
        "  print(\"  Average Runtime (seconds):\", average_ml)\n",
        "  print(\"  Node expansions (ML):\", ml_bb.nodes_expanded_ml)\n"
      ],
      "metadata": {
        "colab": {
          "base_uri": "https://localhost:8080/"
        },
        "id": "ePznZZpZGPhf",
        "outputId": "a2bd943c-d791-4008-a370-0f6cc62313de"
      },
      "execution_count": null,
      "outputs": [
        {
          "output_type": "stream",
          "name": "stdout",
          "text": [
            "\n",
            "Branch-and-Bound with ML Heuristic:\n",
            "  Best tour cost: 100\n",
            "  Best tour path: [0, 5, 1, 6, 8, 2, 4, 3, 9, 7, 0]\n",
            "  Average Runtime (seconds): 0.1234363079071045\n",
            "  Node expansions (ML): 843\n",
            "\n",
            "Branch-and-Bound with ML Heuristic:\n",
            "  Best tour cost: 92\n",
            "  Best tour path: [0, 1, 3, 2, 6, 9, 7, 4, 8, 5, 0]\n",
            "  Average Runtime (seconds): 0.030629396438598633\n",
            "  Node expansions (ML): 249\n",
            "\n",
            "Branch-and-Bound with ML Heuristic:\n",
            "  Best tour cost: 100\n",
            "  Best tour path: [0, 8, 4, 5, 1, 2, 6, 7, 9, 3, 0]\n",
            "  Average Runtime (seconds): 0.15843653678894043\n",
            "  Node expansions (ML): 1028\n",
            "\n",
            "Branch-and-Bound with ML Heuristic:\n",
            "  Best tour cost: 99\n",
            "  Best tour path: [0, 8, 1, 4, 7, 3, 5, 2, 6, 9, 0]\n",
            "  Average Runtime (seconds): 0.24966645240783691\n",
            "  Node expansions (ML): 1211\n",
            "\n",
            "Branch-and-Bound with ML Heuristic:\n",
            "  Best tour cost: 86\n",
            "  Best tour path: [0, 1, 6, 4, 2, 5, 7, 9, 3, 8, 0]\n",
            "  Average Runtime (seconds): 0.030251073837280273\n",
            "  Node expansions (ML): 168\n"
          ]
        }
      ]
    },
    {
      "cell_type": "markdown",
      "source": [
        "Evaluation Plot"
      ],
      "metadata": {
        "id": "w4RKFHXpMmhk"
      }
    },
    {
      "cell_type": "code",
      "source": [
        "import matplotlib.pyplot as plt\n",
        "\n",
        "plt.figure(figsize=(10, 6))\n",
        "plt.plot(ave_ml_runtime, label='ML Heuristic', marker='o')\n",
        "plt.plot(ave_std_runtime, label='Standard Branch-and-Bound', marker='o')\n",
        "plt.plot(ave_parallel_runtime, label='Parallel Branch-and-Bound', marker='o')\n",
        "plt.xlabel('Instance')\n",
        "plt.ylabel('Average Runtime (seconds)')\n",
        "plt.title('Average Runtime Comparison')\n",
        "plt.legend()\n",
        "plt.grid(True)\n",
        "\n",
        "# Set x-axis ticks to only show instances 1, 2, 3, 4, and 5\n",
        "plt.xticks(range(len(ave_ml_runtime)), [str(i) for i in range(1, len(ave_ml_runtime) + 1)])\n",
        "\n",
        "plt.show() # o"
      ],
      "metadata": {
        "colab": {
          "base_uri": "https://localhost:8080/",
          "height": 564
        },
        "id": "_aMLwd-su50B",
        "outputId": "775406db-58be-4f0d-ece6-a3e4d863be07"
      },
      "execution_count": null,
      "outputs": [
        {
          "output_type": "display_data",
          "data": {
            "text/plain": [
              "<Figure size 1000x600 with 1 Axes>"
            ],
            "image/png": "[encoded data removed]"
          },
          "metadata": {}
        }
      ]
    },
    {
      "cell_type": "code",
      "source": [
        "import matplotlib.pyplot as plt\n",
        "import numpy as np\n",
        "\n",
        "num_instances = len(ave_ml_runtime)\n",
        "\n",
        "x_pos = np.arange(num_instances)\n",
        "bar_width = 0.35\n",
        "\n",
        "plt.figure(figsize=(10, 6))\n",
        "plt.bar(x_pos, ave_ml_runtime, bar_width, label='ML Heuristic')\n",
        "plt.bar(x_pos + bar_width, ave_std_runtime, bar_width, label='Standard Branch-and-Bound')\n",
        "\n",
        "# Set the x-axis labels to be instances 1, 2, 3, 4, and 5\n",
        "plt.xticks(x_pos + bar_width / 2, [str(i) for i in range(1, num_instances + 1)])\n",
        "\n",
        "plt.xlabel('Instance')\n",
        "plt.ylabel('Average Runtime (seconds)')\n",
        "plt.title('Average Runtime Comparison')\n",
        "plt.legend()\n",
        "\n",
        "plt.show()"
      ],
      "metadata": {
        "colab": {
          "base_uri": "https://localhost:8080/",
          "height": 564
        },
        "id": "sNJNTiq_0mKs",
        "outputId": "e213d1bb-5b7f-4abb-af35-2b5100d5dc3b"
      },
      "execution_count": null,
      "outputs": [
        {
          "output_type": "display_data",
          "data": {
            "text/plain": [
              "<Figure size 1000x600 with 1 Axes>"
            ],
            "image/png": "[encoded data removed]"
          },
          "metadata": {}
        }
      ]
    },
    {
      "cell_type": "code",
      "source": [
        "speed_up_parallel = [ave_std_runtime[i]/ave_parallel_runtime[i] for i in range(len(ave_parallel_runtime))]\n",
        "\n",
        "print(\"Speed-up of Parallel Branch-and-Bound over Standard Branch-and-Bound:\")\n",
        "print(speed_up_parallel)\n",
        "average_speed_up_parallel = sum(speed_up_parallel)/len(speed_up_parallel)\n",
        "print(\"Average Speed-up of Parallel Branch-and-Bound over Standard Branch-and-Bound:\", average_speed_up_parallel)"
      ],
      "metadata": {
        "colab": {
          "base_uri": "https://localhost:8080/"
        },
        "id": "23IlTmA-r43s",
        "outputId": "4db85ad8-aec4-4c37-fec2-fb30384416a1"
      },
      "execution_count": null,
      "outputs": [
        {
          "output_type": "stream",
          "name": "stdout",
          "text": [
            "Speed-up of Parallel Branch-and-Bound over Standard Branch-and-Bound:\n",
            "[0.0013055634134660102, 0.001241581426290505, 0.0010323154864053119, 0.0013892466714676695, 0.0032996808947610493]\n",
            "Average Speed-up of Parallel Branch-and-Bound over Standard Branch-and-Bound: 0.001653677578478109\n"
          ]
        }
      ]
    },
    {
      "cell_type": "code",
      "source": [
        "speed_up_ml = [ave_std_runtime[i]/ave_ml_runtime[i] for i in range(len(ave_ml_runtime))]\n",
        "\n",
        "print(\"Speed-up of ML Heuristic over Standard Branch-and-Bound:\")\n",
        "print(speed_up_ml)\n",
        "average_speed_up_ml = sum(speed_up_ml)/len(speed_up_ml)\n",
        "print(\"Average Speed-up of ML Heuristic over Standard Branch-and-Bound:\", average_speed_up_ml)"
      ],
      "metadata": {
        "colab": {
          "base_uri": "https://localhost:8080/"
        },
        "id": "i2FsoUTZws3n",
        "outputId": "7ebdfa9a-d7a6-4a44-d42e-f3eb4469a3ba"
      },
      "execution_count": null,
      "outputs": [
        {
          "output_type": "stream",
          "name": "stdout",
          "text": [
            "Speed-up of ML Heuristic over Standard Branch-and-Bound:\n",
            "[0.10454650634095726, 0.35570604581650045, 0.048915099521316535, 0.07336180989460235, 0.41876165451103464]\n",
            "Average Speed-up of ML Heuristic over Standard Branch-and-Bound: 0.20025822321688222\n"
          ]
        }
      ]
    },
    {
      "cell_type": "code",
      "source": [
        "import matplotlib.pyplot as plt\n",
        "import numpy as np\n",
        "\n",
        "num_instances = len(total_exp_nodes_ml)\n",
        "\n",
        "x_pos = np.arange(num_instances)\n",
        "bar_width = 0.35\n",
        "\n",
        "plt.figure(figsize=(10, 6))\n",
        "plt.bar(x_pos, total_exp_nodes_ml, bar_width, label='ML Heuristic')\n",
        "plt.bar(x_pos + bar_width, total_exp_nodes_std, bar_width, label='Standard Branch-and-Bound')\n",
        "\n",
        "# Set the x-axis labels to be instances 1, 2, 3, 4, and 5\n",
        "plt.xticks(x_pos + bar_width / 2, [str(i) for i in range(1, num_instances + 1)])\n",
        "\n",
        "plt.xlabel('Instance')\n",
        "plt.ylabel('Total Expanded Nodes')\n",
        "plt.title('Total Expanded Nodes Comparison')\n",
        "plt.legend()\n",
        "\n",
        "plt.show()"
      ],
      "metadata": {
        "colab": {
          "base_uri": "https://localhost:8080/",
          "height": 564
        },
        "id": "OtJvwXwS1W2J",
        "outputId": "22f88590-f259-44d3-d188-c6278881cc5a"
      },
      "execution_count": null,
      "outputs": [
        {
          "output_type": "display_data",
          "data": {
            "text/plain": [
              "<Figure size 1000x600 with 1 Axes>"
            ],
            "image/png": "[encoded data removed]"
          },
          "metadata": {}
        }
      ]
    }
  ]
}